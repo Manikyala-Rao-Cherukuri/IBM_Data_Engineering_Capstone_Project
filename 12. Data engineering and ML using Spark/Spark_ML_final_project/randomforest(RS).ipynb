{
 "cells": [
  {
   "cell_type": "markdown",
   "id": "90e03821-82ec-464b-988a-b9c3d1c86563",
   "metadata": {},
   "source": [
    "# Spark Train Random Forest Classifier\n"
   ]
  },
  {
   "cell_type": "markdown",
   "id": "f9e5b511-f2ea-4961-a61c-66c19b5f46f0",
   "metadata": {},
   "source": [
    "Train Random Forest classifier with Apache SparkML"
   ]
  },
  {
   "cell_type": "code",
   "execution_count": 1,
   "id": "8fefbd59-06aa-4a8a-9d32-f352366a8490",
   "metadata": {},
   "outputs": [
    {
     "name": "stdout",
     "output_type": "stream",
     "text": [
      "37\n",
      "Starting installation...\n",
      "Please <<RESTART YOUR KERNEL>> (Kernel->Restart Kernel and Clear All Outputs)\n"
     ]
    }
   ],
   "source": [
    "%%bash\n",
    "export version=`python --version |awk '{print $2}' |awk -F\".\" '{print $1$2}'`\n",
    "\n",
    "echo $version\n",
    "\n",
    "if [ $version == '36' ] || [ $version == '37' ]; then\n",
    "    echo 'Starting installation...'\n",
    "    pip3 install pyspark==2.4.8 wget==3.2 pyspark2pmml==0.5.1 > install.log 2> install.log\n",
    "    if [ $? == 0 ]; then\n",
    "        echo 'Please <<RESTART YOUR KERNEL>> (Kernel->Restart Kernel and Clear All Outputs)'\n",
    "    else\n",
    "        echo 'Installation failed, please check log:'\n",
    "        cat install.log\n",
    "    fi\n",
    "elif [ $version == '38' ] || [ $version == '39' ]; then\n",
    "    pip3 install pyspark==3.1.2 wget==3.2 pyspark2pmml==0.5.1 > install.log 2> install.log\n",
    "    if [ $? == 0 ]; then\n",
    "        echo 'Please <<RESTART YOUR KERNEL>> (Kernel->Restart Kernel and Clear All Outputs)'\n",
    "    else\n",
    "        echo 'Installation failed, please check log:'\n",
    "        cat install.log\n",
    "    fi\n",
    "else\n",
    "    echo 'Currently only python 3.6, 3.7 , 3.8 and 3.9 are supported, in case you need a different version please open an issue at https://github.com/IBM/claimed/issues'\n",
    "    exit -1\n",
    "fi"
   ]
  },
  {
   "cell_type": "code",
   "execution_count": 2,
   "id": "23a90c75-cb11-4df7-b4d4-f9438038459c",
   "metadata": {},
   "outputs": [],
   "source": [
    "from pyspark import SparkContext, SparkConf, SQLContext\n",
    "import os\n",
    "from pyspark.ml.classification import RandomForestClassifier\n",
    "from pyspark.ml import Pipeline\n",
    "from pyspark.ml.evaluation import MulticlassClassificationEvaluator\n",
    "from pyspark2pmml import PMMLBuilder\n",
    "from pyspark.ml.feature import StringIndexer\n",
    "from pyspark.ml.feature import VectorAssembler\n",
    "from pyspark.ml.feature import MinMaxScaler\n",
    "from pyspark.ml.feature import OneHotEncoder\n",
    "import logging\n",
    "import shutil\n",
    "import site\n",
    "import sys\n",
    "import wget\n",
    "import re"
   ]
  },
  {
   "cell_type": "code",
   "execution_count": 3,
   "id": "e558c3d7-67ac-461b-82ae-58076cdbe439",
   "metadata": {},
   "outputs": [],
   "source": [
    "if sys.version[0:3] == '3.9':\n",
    "    url = ('https://github.com/jpmml/jpmml-sparkml/releases/download/1.7.2/'\n",
    "           'jpmml-sparkml-executable-1.7.2.jar')\n",
    "    wget.download(url)\n",
    "    shutil.copy('jpmml-sparkml-executable-1.7.2.jar',\n",
    "                site.getsitepackages()[0] + '/pyspark/jars/')\n",
    "elif sys.version[0:3] == '3.8':\n",
    "    url = ('https://github.com/jpmml/jpmml-sparkml/releases/download/1.7.2/'\n",
    "           'jpmml-sparkml-executable-1.7.2.jar')\n",
    "    wget.download(url)\n",
    "    shutil.copy('jpmml-sparkml-executable-1.7.2.jar',\n",
    "                site.getsitepackages()[0] + '/pyspark/jars/')\n",
    "elif sys.version[0:3] == '3.7':\n",
    "    url = ('https://github.com/jpmml/jpmml-sparkml/releases/download/1.5.12/'\n",
    "           'jpmml-sparkml-executable-1.5.12.jar')\n",
    "    wget.download(url)\n",
    "elif sys.version[0:3] == '3.6':\n",
    "    url = ('https://github.com/jpmml/jpmml-sparkml/releases/download/1.5.12/'\n",
    "           'jpmml-sparkml-executable-1.5.12.jar')\n",
    "    wget.download(url)\n",
    "else:\n",
    "    raise Exception('Currently only python 3.6 , 3.7, 3,8 and 3.9 is supported, in case '\n",
    "                    'you need a different version please open an issue at '\n",
    "                    'https://github.com/IBM/claimed/issues')"
   ]
  },
  {
   "cell_type": "code",
   "execution_count": 4,
   "id": "fb922460-d290-4cf5-94e8-1e31863ea9af",
   "metadata": {},
   "outputs": [],
   "source": [
    "data_new_csv = os.environ.get('data_new_csv',\n",
    "                              'trends.csv')  # input file name (parquet)\n",
    "master = os.environ.get('master',\n",
    "                        \"local[*]\")  # URL to Spark master\n",
    "model_target = os.environ.get('model_target',\n",
    "                              \"model.xml\")  # model output file name\n",
    "data_dir = os.environ.get('data_dir',\n",
    "                          '../../data/')  # temporary directory for data\n",
    "input_columns = os.environ.get('input_columns',\n",
    "                               '[\"x\", \"y\", \"z\"]')  # input columns to consider"
   ]
  },
  {
   "cell_type": "code",
   "execution_count": 5,
   "id": "c463b5b7-ffe4-408f-bf0a-b982e426965e",
   "metadata": {},
   "outputs": [],
   "source": [
    "parameters = list(\n",
    "    map(lambda s: re.sub('$', '\"', s),\n",
    "        map(\n",
    "            lambda s: s.replace('=', '=\"'),\n",
    "            filter(\n",
    "                lambda s: s.find('=') > -1 and bool(re.match(r'[A-Za-z0-9_]*=[.\\/A-Za-z0-9]*', s)),\n",
    "                sys.argv\n",
    "            )\n",
    "    )))\n",
    "\n",
    "for parameter in parameters:\n",
    "    logging.warning('Parameter: ' + parameter)\n",
    "    exec(parameter)"
   ]
  },
  {
   "cell_type": "code",
   "execution_count": 6,
   "id": "5e01bfb3-dc1b-49e3-b67b-9d896aea395a",
   "metadata": {},
   "outputs": [
    {
     "name": "stderr",
     "output_type": "stream",
     "text": [
      "22/11/11 12:58:34 WARN util.NativeCodeLoader: Unable to load native-hadoop library for your platform... using builtin-java classes where applicable\n",
      "Setting default log level to \"WARN\".\n",
      "To adjust logging level use sc.setLogLevel(newLevel). For SparkR, use setLogLevel(newLevel).\n",
      "22/11/11 12:58:37 WARN util.Utils: Service 'SparkUI' could not bind on port 4040. Attempting port 4041.\n",
      "22/11/11 12:58:37 WARN util.Utils: Service 'SparkUI' could not bind on port 4041. Attempting port 4042.\n"
     ]
    }
   ],
   "source": [
    "conf = SparkConf().setMaster(master)\n",
    "#if sys.version[0:3] == '3.6' or sys.version[0:3] == '3.7':\n",
    "conf.set(\"spark.jars\", 'jpmml-sparkml-executable-1.5.12.jar')\n",
    "\n",
    "sc = SparkContext.getOrCreate(conf)\n",
    "sqlContext = SQLContext(sc)\n",
    "spark = sqlContext.sparkSession"
   ]
  },
  {
   "cell_type": "code",
   "execution_count": 7,
   "id": "10d0fd19-7440-4bcb-8b9e-553f9de054ed",
   "metadata": {},
   "outputs": [
    {
     "name": "stderr",
     "output_type": "stream",
     "text": [
      "                                                                                \r"
     ]
    }
   ],
   "source": [
    "#df = spark.read.parquet(data_dir + data_parquet)\n",
    "df = spark.read.option(\"header\", True).csv(data_dir + data_new_csv)"
   ]
  },
  {
   "cell_type": "code",
   "execution_count": 8,
   "id": "8e7bd51b-7f9f-4260-b48c-f33e04457701",
   "metadata": {},
   "outputs": [
    {
     "data": {
      "text/plain": [
       "Row(x='33', y='36', z='51', source='Accelerometer-2011-03-24-13-21-39-eat_meat-f1.txt', class='Eat_meat')"
      ]
     },
     "execution_count": 8,
     "metadata": {},
     "output_type": "execute_result"
    }
   ],
   "source": [
    "df.head()"
   ]
  },
  {
   "cell_type": "code",
   "execution_count": 9,
   "id": "bcfab140-35ef-4560-8c28-30800c41f9b3",
   "metadata": {},
   "outputs": [],
   "source": [
    "# register a corresponding query table\n",
    "df.createOrReplaceTempView('df')"
   ]
  },
  {
   "cell_type": "code",
   "execution_count": 10,
   "id": "b3cf7b3f-7130-46c4-9267-3f3508e2e73e",
   "metadata": {},
   "outputs": [],
   "source": [
    "from pyspark.sql.types import DoubleType\n",
    "df = df.withColumn(\"x\", df[\"x\"].cast(DoubleType()))\n",
    "df = df.withColumn(\"y\", df.y.cast(DoubleType()))\n",
    "df = df.withColumn(\"z\", df.z.cast(DoubleType()))"
   ]
  },
  {
   "cell_type": "code",
   "execution_count": 11,
   "id": "759995f4-8c75-4e89-b1d9-3f63d0392bcd",
   "metadata": {},
   "outputs": [
    {
     "name": "stderr",
     "output_type": "stream",
     "text": [
      "                                                                                \r"
     ]
    },
    {
     "name": "stdout",
     "output_type": "stream",
     "text": [
      "+----+----+----+--------------------+--------+-----+\n",
      "|   x|   y|   z|              source|   class|label|\n",
      "+----+----+----+--------------------+--------+-----+\n",
      "|33.0|36.0|51.0|Accelerometer-201...|Eat_meat|  5.0|\n",
      "|33.0|36.0|51.0|Accelerometer-201...|Eat_meat|  5.0|\n",
      "|33.0|35.0|53.0|Accelerometer-201...|Eat_meat|  5.0|\n",
      "|31.0|37.0|52.0|Accelerometer-201...|Eat_meat|  5.0|\n",
      "|32.0|36.0|52.0|Accelerometer-201...|Eat_meat|  5.0|\n",
      "|32.0|36.0|51.0|Accelerometer-201...|Eat_meat|  5.0|\n",
      "|32.0|36.0|51.0|Accelerometer-201...|Eat_meat|  5.0|\n",
      "|33.0|36.0|53.0|Accelerometer-201...|Eat_meat|  5.0|\n",
      "|33.0|35.0|52.0|Accelerometer-201...|Eat_meat|  5.0|\n",
      "|33.0|36.0|52.0|Accelerometer-201...|Eat_meat|  5.0|\n",
      "|32.0|35.0|53.0|Accelerometer-201...|Eat_meat|  5.0|\n",
      "|33.0|36.0|52.0|Accelerometer-201...|Eat_meat|  5.0|\n",
      "|32.0|38.0|53.0|Accelerometer-201...|Eat_meat|  5.0|\n",
      "|32.0|37.0|52.0|Accelerometer-201...|Eat_meat|  5.0|\n",
      "|33.0|35.0|52.0|Accelerometer-201...|Eat_meat|  5.0|\n",
      "|32.0|36.0|53.0|Accelerometer-201...|Eat_meat|  5.0|\n",
      "|32.0|36.0|53.0|Accelerometer-201...|Eat_meat|  5.0|\n",
      "|32.0|36.0|52.0|Accelerometer-201...|Eat_meat|  5.0|\n",
      "|34.0|36.0|52.0|Accelerometer-201...|Eat_meat|  5.0|\n",
      "|33.0|36.0|52.0|Accelerometer-201...|Eat_meat|  5.0|\n",
      "+----+----+----+--------------------+--------+-----+\n",
      "only showing top 20 rows\n",
      "\n"
     ]
    }
   ],
   "source": [
    "indexer = StringIndexer(inputCol=\"class\", outputCol=\"label\")\n",
    "indexed = indexer.fit(df).transform(df)\n",
    "indexed.show()"
   ]
  },
  {
   "cell_type": "code",
   "execution_count": 12,
   "id": "3df04cb6-4041-4585-9b77-f6dae742322a",
   "metadata": {},
   "outputs": [],
   "source": [
    "splits = indexed.randomSplit([0.8, 0.2])\n",
    "df_train = splits[0]\n",
    "df_test = splits[1]"
   ]
  },
  {
   "cell_type": "code",
   "execution_count": 13,
   "id": "c2fe45a0-1330-4c86-9bb4-f92f5907d66e",
   "metadata": {},
   "outputs": [],
   "source": [
    "#indexer = StringIndexer(inputCol=\"class\", outputCol=\"label\")\n",
    "# all string(categorical) variables will be encoded into numbers, each category by frequency of label\n",
    "sindexer = StringIndexer(inputCol=\"label\",\n",
    "                         outputCol=\"label1\",\n",
    "                         handleInvalid='keep',\n",
    "                         stringOrderType='frequencyDesc')\n",
    "\n",
    "vectorAssembler = VectorAssembler(inputCols=eval(input_columns),\n",
    "                                  outputCol=\"features\")\n",
    "\n",
    "normalizer = MinMaxScaler(inputCol=\"features\", outputCol=\"features_norm\")"
   ]
  },
  {
   "cell_type": "code",
   "execution_count": 14,
   "id": "aea2cfdd-1af4-481d-8a70-1211abef4812",
   "metadata": {},
   "outputs": [],
   "source": [
    "rfc= RandomForestClassifier(numTrees=10,\n",
    "                            maxDepth=5, \n",
    "                            labelCol='label',\n",
    "                            seed=1)"
   ]
  },
  {
   "cell_type": "code",
   "execution_count": 15,
   "id": "0361da95-0c52-4c97-935b-01481ce867ed",
   "metadata": {},
   "outputs": [],
   "source": [
    "pipeline = Pipeline(stages=[vectorAssembler, normalizer, rfc])"
   ]
  },
  {
   "cell_type": "code",
   "execution_count": 16,
   "id": "32ca488c-0c2e-47d3-9352-b034e59f1d92",
   "metadata": {},
   "outputs": [
    {
     "name": "stderr",
     "output_type": "stream",
     "text": [
      "                                                                                \r"
     ]
    }
   ],
   "source": [
    "model = pipeline.fit(df_train)"
   ]
  },
  {
   "cell_type": "code",
   "execution_count": 18,
   "id": "e46638b8-c52c-4a33-8f43-cb863b1bdd17",
   "metadata": {},
   "outputs": [],
   "source": [
    "prediction = model.transform(df_train)"
   ]
  },
  {
   "cell_type": "code",
   "execution_count": 19,
   "id": "0fb6e509-8b92-49da-be0c-384126528aac",
   "metadata": {},
   "outputs": [
    {
     "name": "stderr",
     "output_type": "stream",
     "text": [
      "                                                                                \r"
     ]
    },
    {
     "data": {
      "text/plain": [
       "0.44570934081629227"
      ]
     },
     "execution_count": 19,
     "metadata": {},
     "output_type": "execute_result"
    }
   ],
   "source": [
    "binEval = MulticlassClassificationEvaluator(). \\\n",
    "    setMetricName(\"accuracy\"). \\\n",
    "    setPredictionCol(\"prediction\"). \\\n",
    "    setLabelCol(\"label\")\n",
    "\n",
    "binEval.evaluate(prediction)"
   ]
  },
  {
   "cell_type": "code",
   "execution_count": 20,
   "id": "0351361d-c3ec-4778-9c0a-9dd7dfaff96d",
   "metadata": {},
   "outputs": [],
   "source": [
    "#lr = LogisticRegression(maxIter=10, regParam=0.01, elasticNetParam=0.0)\n",
    "rfc= RandomForestClassifier(numTrees=20,\n",
    "                            maxDepth=7, \n",
    "                            labelCol='label',\n",
    "                            seed=1)"
   ]
  },
  {
   "cell_type": "code",
   "execution_count": 21,
   "id": "a4c71aaf-8a6a-4ac4-af4d-40eca1eebdeb",
   "metadata": {},
   "outputs": [
    {
     "name": "stderr",
     "output_type": "stream",
     "text": [
      "                                                                                \r"
     ]
    }
   ],
   "source": [
    "pipeline = Pipeline(stages=[vectorAssembler, normalizer, rfc])\n",
    "model = pipeline.fit(df_train)"
   ]
  },
  {
   "cell_type": "code",
   "execution_count": 22,
   "id": "cc189a02-83c7-4650-8e7c-a6d56a7f78cc",
   "metadata": {},
   "outputs": [],
   "source": [
    "prediction = model.transform(df_train)"
   ]
  },
  {
   "cell_type": "code",
   "execution_count": 23,
   "id": "03e3898e-0201-476e-b8eb-7e6c897f3da2",
   "metadata": {},
   "outputs": [
    {
     "name": "stderr",
     "output_type": "stream",
     "text": [
      "                                                                                \r"
     ]
    },
    {
     "data": {
      "text/plain": [
       "0.46767372954928615"
      ]
     },
     "execution_count": 23,
     "metadata": {},
     "output_type": "execute_result"
    }
   ],
   "source": [
    "\n",
    "binEval = MulticlassClassificationEvaluator(). \\\n",
    "    setMetricName(\"accuracy\"). \\\n",
    "    setPredictionCol(\"prediction\"). \\\n",
    "    setLabelCol(\"label\")\n",
    "\n",
    "binEval.evaluate(prediction)"
   ]
  },
  {
   "cell_type": "code",
   "execution_count": 24,
   "id": "0fac6fe9-7ae8-4f1a-8e59-1aa4c1b3d8eb",
   "metadata": {},
   "outputs": [
    {
     "data": {
      "text/plain": [
       "'/resources/labs/BD0231EN/claimed/component-library/transform/../../data/model.xml'"
      ]
     },
     "execution_count": 24,
     "metadata": {},
     "output_type": "execute_result"
    }
   ],
   "source": [
    "pmmlBuilder = PMMLBuilder(sc, df_train, model)\n",
    "pmmlBuilder.buildFile(data_dir + model_target)"
   ]
  },
  {
   "cell_type": "code",
   "execution_count": 25,
   "id": "6379ab76-4193-4b29-b52f-f5b55721181d",
   "metadata": {},
   "outputs": [],
   "source": [
    "prediction = model.transform(df_test)"
   ]
  },
  {
   "cell_type": "code",
   "execution_count": 26,
   "id": "d44d3fb7-fa07-432c-977d-babadf1a0a74",
   "metadata": {},
   "outputs": [
    {
     "name": "stderr",
     "output_type": "stream",
     "text": [
      "                                                                                \r"
     ]
    },
    {
     "data": {
      "text/plain": [
       "0.4689383014164179"
      ]
     },
     "execution_count": 26,
     "metadata": {},
     "output_type": "execute_result"
    }
   ],
   "source": [
    "binEval = MulticlassClassificationEvaluator(). \\\n",
    "    setMetricName(\"accuracy\"). \\\n",
    "    setPredictionCol(\"prediction\"). \\\n",
    "    setLabelCol(\"label\")\n",
    "\n",
    "binEval.evaluate(prediction)"
   ]
  },
  {
   "cell_type": "code",
   "execution_count": null,
   "id": "0a3c01a7-9fc5-4efe-b77e-531e3c75d4c6",
   "metadata": {},
   "outputs": [],
   "source": []
  }
 ],
 "metadata": {
  "kernelspec": {
   "display_name": "Python",
   "language": "python",
   "name": "conda-env-python-py"
  },
  "language_info": {
   "codemirror_mode": {
    "name": "ipython",
    "version": 3
   },
   "file_extension": ".py",
   "mimetype": "text/x-python",
   "name": "python",
   "nbconvert_exporter": "python",
   "pygments_lexer": "ipython3",
   "version": "3.7.12"
  }
 },
 "nbformat": 4,
 "nbformat_minor": 5
}
