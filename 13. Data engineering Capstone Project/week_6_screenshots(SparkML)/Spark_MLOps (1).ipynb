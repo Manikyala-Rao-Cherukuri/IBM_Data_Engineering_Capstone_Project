{
  "cells": [
    {
      "cell_type": "markdown",
      "metadata": {
        "id": "86Z6YjlUYYs1"
      },
      "source": [
        "<p style=\"text-align:center\">\n",
        "        <img src=\"https://cf-courses-data.s3.us.cloud-object-storage.appdomain.cloud/assets/logos/SN_web_lightmode.png\" width=\"300\" alt=\"Skills Network Logo\">\n",
        "</p>\n"
      ]
    },
    {
      "cell_type": "markdown",
      "metadata": {
        "id": "-VP9gHjMYYtE"
      },
      "source": [
        "### Analyse search terms on the e-commerce web server\n"
      ]
    },
    {
      "cell_type": "markdown",
      "metadata": {
        "id": "N5-Mk8WFYYtG"
      },
      "source": [
        "##### In this assignment you will download the search term data set for the e-commerce web server and run analytic queries on it.\n"
      ]
    },
    {
      "cell_type": "code",
      "execution_count": 1,
      "metadata": {
        "id": "RbqycIZKYYtI"
      },
      "outputs": [],
      "source": [
        "# Install spark"
      ]
    },
    {
      "cell_type": "code",
      "execution_count": 2,
      "metadata": {
        "colab": {
          "base_uri": "https://localhost:8080/"
        },
        "id": "jWWdC7bEYYtL",
        "outputId": "a97e016d-1289-4436-d2e4-59e6dfe3d9e0"
      },
      "outputs": [
        {
          "output_type": "stream",
          "name": "stdout",
          "text": [
            "Looking in indexes: https://pypi.org/simple, https://us-python.pkg.dev/colab-wheels/public/simple/\n",
            "Collecting pyspark\n",
            "  Downloading pyspark-3.3.1.tar.gz (281.4 MB)\n",
            "\u001b[K     |████████████████████████████████| 281.4 MB 40 kB/s \n",
            "\u001b[?25hCollecting py4j==0.10.9.5\n",
            "  Downloading py4j-0.10.9.5-py2.py3-none-any.whl (199 kB)\n",
            "\u001b[K     |████████████████████████████████| 199 kB 56.0 MB/s \n",
            "\u001b[?25hBuilding wheels for collected packages: pyspark\n",
            "  Building wheel for pyspark (setup.py) ... \u001b[?25l\u001b[?25hdone\n",
            "  Created wheel for pyspark: filename=pyspark-3.3.1-py2.py3-none-any.whl size=281845512 sha256=50f4da70c2d27392a139bb388c3f6bdeb85bceac51a4e72916b3d9cbce9aea7e\n",
            "  Stored in directory: /root/.cache/pip/wheels/42/59/f5/79a5bf931714dcd201b26025347785f087370a10a3329a899c\n",
            "Successfully built pyspark\n",
            "Installing collected packages: py4j, pyspark\n",
            "Successfully installed py4j-0.10.9.5 pyspark-3.3.1\n",
            "Looking in indexes: https://pypi.org/simple, https://us-python.pkg.dev/colab-wheels/public/simple/\n",
            "Collecting findspark\n",
            "  Downloading findspark-2.0.1-py2.py3-none-any.whl (4.4 kB)\n",
            "Installing collected packages: findspark\n",
            "Successfully installed findspark-2.0.1\n",
            "Looking in indexes: https://pypi.org/simple, https://us-python.pkg.dev/colab-wheels/public/simple/\n",
            "Requirement already satisfied: pandas in /usr/local/lib/python3.7/dist-packages (1.3.5)\n",
            "Requirement already satisfied: numpy>=1.17.3 in /usr/local/lib/python3.7/dist-packages (from pandas) (1.21.6)\n",
            "Requirement already satisfied: python-dateutil>=2.7.3 in /usr/local/lib/python3.7/dist-packages (from pandas) (2.8.2)\n",
            "Requirement already satisfied: pytz>=2017.3 in /usr/local/lib/python3.7/dist-packages (from pandas) (2022.6)\n",
            "Requirement already satisfied: six>=1.5 in /usr/local/lib/python3.7/dist-packages (from python-dateutil>=2.7.3->pandas) (1.15.0)\n"
          ]
        }
      ],
      "source": [
        "!pip install pyspark\n",
        "!pip install findspark\n",
        "!pip install pandas"
      ]
    },
    {
      "cell_type": "code",
      "execution_count": 6,
      "metadata": {
        "id": "2_X2yM8lYYtN"
      },
      "outputs": [],
      "source": [
        "# import libraries"
      ]
    },
    {
      "cell_type": "code",
      "execution_count": 7,
      "metadata": {
        "id": "E_dKzSr5YYtO"
      },
      "outputs": [],
      "source": [
        "import findspark\n",
        "findspark.init()\n",
        "\n",
        "from pyspark import SparkContext, SparkConf\n",
        "from pyspark.sql import SparkSession\n",
        "import pandas as pd"
      ]
    },
    {
      "cell_type": "code",
      "execution_count": 8,
      "metadata": {
        "id": "4PFvyOOwYYtX"
      },
      "outputs": [],
      "source": [
        "# Start session"
      ]
    },
    {
      "cell_type": "code",
      "execution_count": 9,
      "metadata": {
        "id": "IXl_IDZjYYtZ"
      },
      "outputs": [],
      "source": [
        "# Creating a spark context class\n",
        "sc = SparkContext()\n",
        "\n",
        "# Creating a spark session\n",
        "spark = SparkSession \\\n",
        "    .builder \\\n",
        "    .appName(\"SparkML Ops\").getOrCreate()"
      ]
    },
    {
      "cell_type": "code",
      "execution_count": 10,
      "metadata": {
        "id": "x1qgC5u_YYtc"
      },
      "outputs": [],
      "source": [
        "# import spark Ml libraries"
      ]
    },
    {
      "cell_type": "code",
      "execution_count": 11,
      "metadata": {
        "id": "vje9kLA3YYtf"
      },
      "outputs": [],
      "source": [
        "from pyspark.ml.feature import VectorAssembler\n",
        "from pyspark.ml.regression import LinearRegression"
      ]
    },
    {
      "cell_type": "code",
      "execution_count": 12,
      "metadata": {
        "id": "H82NGc32YYth"
      },
      "outputs": [],
      "source": [
        "# Download The search term dataset from the below url\n",
        "# https://cf-courses-data.s3.us.cloud-object-storage.appdomain.cloud/IBM-DB0321EN-SkillsNetwork/Bigdata%20and%20Spark/searchterms.csv"
      ]
    },
    {
      "cell_type": "code",
      "execution_count": 13,
      "metadata": {
        "colab": {
          "base_uri": "https://localhost:8080/"
        },
        "id": "wNcLoJQEYYtj",
        "outputId": "5b6c49da-02bd-49a0-b7a7-31a5f50149e6"
      },
      "outputs": [
        {
          "output_type": "stream",
          "name": "stdout",
          "text": [
            "--2022-11-23 12:10:12--  https://cf-courses-data.s3.us.cloud-object-storage.appdomain.cloud/IBM-DB0321EN-SkillsNetwork/Bigdata%20and%20Spark/searchterms.csv\n",
            "Resolving cf-courses-data.s3.us.cloud-object-storage.appdomain.cloud (cf-courses-data.s3.us.cloud-object-storage.appdomain.cloud)... 169.63.118.104\n",
            "Connecting to cf-courses-data.s3.us.cloud-object-storage.appdomain.cloud (cf-courses-data.s3.us.cloud-object-storage.appdomain.cloud)|169.63.118.104|:443... connected.\n",
            "HTTP request sent, awaiting response... 200 OK\n",
            "Length: 233457 (228K) [text/csv]\n",
            "Saving to: ‘searchterms.csv’\n",
            "\n",
            "\rsearchterms.csv       0%[                    ]       0  --.-KB/s               \rsearchterms.csv     100%[===================>] 227.99K  --.-KB/s    in 0.007s  \n",
            "\n",
            "2022-11-23 12:10:12 (30.8 MB/s) - ‘searchterms.csv’ saved [233457/233457]\n",
            "\n"
          ]
        }
      ],
      "source": [
        "!wget -N \"https://cf-courses-data.s3.us.cloud-object-storage.appdomain.cloud/IBM-DB0321EN-SkillsNetwork/Bigdata%20and%20Spark/searchterms.csv\""
      ]
    },
    {
      "cell_type": "code",
      "execution_count": 14,
      "metadata": {
        "id": "ZBcpgal3YYtm"
      },
      "outputs": [],
      "source": [
        "# Load the csv into a spark dataframe"
      ]
    },
    {
      "cell_type": "code",
      "execution_count": 15,
      "metadata": {
        "id": "Yqc9HnchYYtn"
      },
      "outputs": [],
      "source": [
        "searchterms = pd.read_csv('searchterms.csv')\n",
        "sdf = spark.createDataFrame(searchterms)"
      ]
    },
    {
      "cell_type": "code",
      "execution_count": 16,
      "metadata": {
        "id": "GtCPvIcDYYtn"
      },
      "outputs": [],
      "source": [
        "# Print the number of rows and columns\n",
        "# Take a screenshot of the code and name it as shape.jpg)"
      ]
    },
    {
      "cell_type": "code",
      "execution_count": 17,
      "metadata": {
        "colab": {
          "base_uri": "https://localhost:8080/"
        },
        "id": "05X17YvRYYtp",
        "outputId": "2f554a57-231d-4f34-c448-e857a9b5831a"
      },
      "outputs": [
        {
          "output_type": "stream",
          "name": "stdout",
          "text": [
            "Total number of rows: 10000\n",
            "Total number of columns: 4\n"
          ]
        }
      ],
      "source": [
        "row_count = sdf.count()\n",
        "col_count = len(sdf.columns)\n",
        "print(f'Total number of rows: {row_count}')\n",
        "print(f'Total number of columns: {col_count}')"
      ]
    },
    {
      "cell_type": "code",
      "execution_count": 18,
      "metadata": {
        "id": "UVrTSHLsYYtq"
      },
      "outputs": [],
      "source": [
        "# Print the top 5 rows\n",
        "# Take a screenshot of the code and name it as top5rows.jpg)"
      ]
    },
    {
      "cell_type": "code",
      "execution_count": 19,
      "metadata": {
        "colab": {
          "base_uri": "https://localhost:8080/"
        },
        "id": "0mgNXWFSYYtr",
        "outputId": "95e5d15e-edca-425c-c090-bd98347503c6"
      },
      "outputs": [
        {
          "output_type": "stream",
          "name": "stdout",
          "text": [
            "+---+-----+----+--------------+\n",
            "|day|month|year|    searchterm|\n",
            "+---+-----+----+--------------+\n",
            "| 12|   11|2021| mobile 6 inch|\n",
            "| 12|   11|2021| mobile latest|\n",
            "| 12|   11|2021|   tablet wifi|\n",
            "| 12|   11|2021|laptop 14 inch|\n",
            "| 12|   11|2021|     mobile 5g|\n",
            "+---+-----+----+--------------+\n",
            "only showing top 5 rows\n",
            "\n",
            "None\n"
          ]
        }
      ],
      "source": [
        "print(sdf.show(5))"
      ]
    },
    {
      "cell_type": "code",
      "execution_count": 20,
      "metadata": {
        "id": "rXhoPt8QYYts"
      },
      "outputs": [],
      "source": [
        "# Find out the datatype of the column searchterm?\n",
        "# Take a screenshot of the code and name it as datatype.jpg)"
      ]
    },
    {
      "cell_type": "code",
      "execution_count": 21,
      "metadata": {
        "colab": {
          "base_uri": "https://localhost:8080/"
        },
        "id": "kKDGLDJfYYtt",
        "outputId": "2c30e75d-81f5-4803-8990-ab3e03ceb385"
      },
      "outputs": [
        {
          "output_type": "execute_result",
          "data": {
            "text/plain": [
              "[('day', 'bigint'),\n",
              " ('month', 'bigint'),\n",
              " ('year', 'bigint'),\n",
              " ('searchterm', 'string')]"
            ]
          },
          "metadata": {},
          "execution_count": 21
        }
      ],
      "source": [
        "sdf.dtypes"
      ]
    },
    {
      "cell_type": "markdown",
      "metadata": {
        "id": "-SeV0vBsYYtv"
      },
      "source": [
        "## OR"
      ]
    },
    {
      "cell_type": "code",
      "execution_count": 22,
      "metadata": {
        "colab": {
          "base_uri": "https://localhost:8080/"
        },
        "id": "7fcXpXzHYYtx",
        "outputId": "0c30279c-b8e1-4021-c220-05966df476ca"
      },
      "outputs": [
        {
          "output_type": "stream",
          "name": "stdout",
          "text": [
            "root\n",
            " |-- day: long (nullable = true)\n",
            " |-- month: long (nullable = true)\n",
            " |-- year: long (nullable = true)\n",
            " |-- searchterm: string (nullable = true)\n",
            "\n"
          ]
        }
      ],
      "source": [
        "sdf.printSchema()"
      ]
    },
    {
      "cell_type": "code",
      "execution_count": 23,
      "metadata": {
        "id": "J-Ut6MGNYYty"
      },
      "outputs": [],
      "source": [
        "# How many times was the term `gaming laptop` searched?\n",
        "# Take a screenshot of the code and name it as gaminglaptop.jpg)"
      ]
    },
    {
      "cell_type": "code",
      "execution_count": 24,
      "metadata": {
        "colab": {
          "base_uri": "https://localhost:8080/"
        },
        "id": "MyHZCoyJYYt0",
        "outputId": "527b001b-9f4a-4508-f1cb-95e8a27cd1dd"
      },
      "outputs": [
        {
          "output_type": "stream",
          "name": "stdout",
          "text": [
            "+-------------+\n",
            "|gaming_laptop|\n",
            "+-------------+\n",
            "|          499|\n",
            "+-------------+\n",
            "\n"
          ]
        }
      ],
      "source": [
        "sdf.createOrReplaceTempView(\"sdf\")\n",
        "spark.sql(\"\"\"select count(*) as gaming_laptop from sdf where searchterm='gaming laptop'\"\"\").show()"
      ]
    },
    {
      "cell_type": "code",
      "execution_count": 25,
      "metadata": {
        "id": "CKpN0phyYYt1"
      },
      "outputs": [],
      "source": [
        "# Print the top 5 most frequently used search terms?\n",
        "# Take a screenshot of the code and name it as top5terms.jpg)"
      ]
    },
    {
      "cell_type": "code",
      "execution_count": 26,
      "metadata": {
        "colab": {
          "base_uri": "https://localhost:8080/"
        },
        "id": "KW_5YKKmYYt2",
        "outputId": "002d8c03-04ad-4d27-982b-44b8d4b373e0"
      },
      "outputs": [
        {
          "output_type": "stream",
          "name": "stdout",
          "text": [
            "+-------------+--------+\n",
            "|   searchterm|count(1)|\n",
            "+-------------+--------+\n",
            "|mobile 6 inch|    2312|\n",
            "|    mobile 5g|    2301|\n",
            "|mobile latest|    1327|\n",
            "|       laptop|     935|\n",
            "|  tablet wifi|     896|\n",
            "+-------------+--------+\n",
            "\n"
          ]
        }
      ],
      "source": [
        "spark.sql(\"\"\"select searchterm,count(*) from sdf group by searchterm order by count(*) desc limit 5\"\"\").show()"
      ]
    },
    {
      "cell_type": "code",
      "execution_count": 27,
      "metadata": {
        "id": "oOuyCBXLYYt4"
      },
      "outputs": [],
      "source": [
        "# The pretrained sales forecasting model is available at  the below url\n",
        "# https://cf-courses-data.s3.us.cloud-object-storage.appdomain.cloud/IBM-DB0321EN-SkillsNetwork/Bigdata%20and%20Spark/model.tar.gz"
      ]
    },
    {
      "cell_type": "code",
      "execution_count": 28,
      "metadata": {
        "id": "gPLYJE-sYYt5"
      },
      "outputs": [],
      "source": [
        "# Load the sales forecast model.\n",
        "# Take a screenshot of the code and name it as loadmodel.jpg)"
      ]
    },
    {
      "cell_type": "code",
      "execution_count": 29,
      "metadata": {
        "colab": {
          "base_uri": "https://localhost:8080/"
        },
        "id": "x1VXHI05YYt6",
        "outputId": "76a3c73c-7f37-483c-a697-64a64d57f6e7"
      },
      "outputs": [
        {
          "output_type": "stream",
          "name": "stdout",
          "text": [
            "--2022-11-23 12:10:56--  https://cf-courses-data.s3.us.cloud-object-storage.appdomain.cloud/IBM-DB0321EN-SkillsNetwork/Bigdata%20and%20Spark/model.gzip\n",
            "Resolving cf-courses-data.s3.us.cloud-object-storage.appdomain.cloud (cf-courses-data.s3.us.cloud-object-storage.appdomain.cloud)... 169.63.118.104\n",
            "Connecting to cf-courses-data.s3.us.cloud-object-storage.appdomain.cloud (cf-courses-data.s3.us.cloud-object-storage.appdomain.cloud)|169.63.118.104|:443... connected.\n",
            "HTTP request sent, awaiting response... 200 OK\n",
            "Length: 1722 (1.7K) [application/gzip]\n",
            "Saving to: ‘model.gzip’\n",
            "\n",
            "\rmodel.gzip            0%[                    ]       0  --.-KB/s               \rmodel.gzip          100%[===================>]   1.68K  --.-KB/s    in 0s      \n",
            "\n",
            "2022-11-23 12:10:56 (261 MB/s) - ‘model.gzip’ saved [1722/1722]\n",
            "\n",
            "sales_prediction.model/\n",
            "sales_prediction.model/metadata/\n",
            "sales_prediction.model/metadata/part-00000\n",
            "sales_prediction.model/metadata/.part-00000.crc\n",
            "sales_prediction.model/metadata/_SUCCESS\n",
            "sales_prediction.model/metadata/._SUCCESS.crc\n",
            "sales_prediction.model/data/\n",
            "sales_prediction.model/data/part-00000-f37d8b09-cd1a-426c-ba90-4047208b011b-c000.snappy.parquet\n",
            "sales_prediction.model/data/.part-00000-f37d8b09-cd1a-426c-ba90-4047208b011b-c000.snappy.parquet.crc\n",
            "sales_prediction.model/data/_SUCCESS\n",
            "sales_prediction.model/data/._SUCCESS.crc\n"
          ]
        }
      ],
      "source": [
        "!wget -N \"https://cf-courses-data.s3.us.cloud-object-storage.appdomain.cloud/IBM-DB0321EN-SkillsNetwork/Bigdata%20and%20Spark/model.gzip\"\n",
        "!tar -xvzf model.gzip"
      ]
    },
    {
      "cell_type": "code",
      "execution_count": 30,
      "metadata": {
        "id": "mMvnHIGRYYt8"
      },
      "outputs": [],
      "source": [
        "# You need LinearRegressionModel to load the model\n",
        "from pyspark.ml.regression import LinearRegressionModel"
      ]
    },
    {
      "cell_type": "code",
      "execution_count": 31,
      "metadata": {
        "id": "PT5wp3_QYYt9"
      },
      "outputs": [],
      "source": [
        "model = LinearRegressionModel.load('sales_prediction.model')"
      ]
    },
    {
      "cell_type": "code",
      "execution_count": null,
      "metadata": {
        "id": "ZkhNeGwiYYt-"
      },
      "outputs": [],
      "source": [
        "# Using the sales forecast model, predict the sales for the year of 2023.\n",
        "# Take a screenshot of the code and name it as forecast.jpg"
      ]
    },
    {
      "cell_type": "code",
      "execution_count": 32,
      "metadata": {
        "id": "gEPcZuw0YYuA"
      },
      "outputs": [],
      "source": [
        "def predict(year):\n",
        "    assembler = VectorAssembler(inputCols=[\"year\"],outputCol=\"features\")\n",
        "    data = [[year,0]]\n",
        "    columns = [\"year\", \"sales\"]\n",
        "    _ = spark.createDataFrame(data, columns)\n",
        "    __ = assembler.transform(_).select('features','year')\n",
        "    predictions = model.transform(__)\n",
        "    predictions.select('prediction').show()"
      ]
    },
    {
      "cell_type": "code",
      "source": [
        "predict(2023)"
      ],
      "metadata": {
        "colab": {
          "base_uri": "https://localhost:8080/"
        },
        "id": "NEpmDC9hakdS",
        "outputId": "1a2c70c5-3359-4b19-90d3-0976feb95bcd"
      },
      "execution_count": 33,
      "outputs": [
        {
          "output_type": "stream",
          "name": "stdout",
          "text": [
            "+------------------+\n",
            "|        prediction|\n",
            "+------------------+\n",
            "|176.14285712605306|\n",
            "+------------------+\n",
            "\n"
          ]
        }
      ]
    },
    {
      "cell_type": "code",
      "source": [],
      "metadata": {
        "id": "u_e38F-PamnC"
      },
      "execution_count": null,
      "outputs": []
    }
  ],
  "metadata": {
    "kernelspec": {
      "display_name": "Python",
      "language": "python",
      "name": "conda-env-python-py"
    },
    "language_info": {
      "codemirror_mode": {
        "name": "ipython",
        "version": 3
      },
      "file_extension": ".py",
      "mimetype": "text/x-python",
      "name": "python",
      "nbconvert_exporter": "python",
      "pygments_lexer": "ipython3",
      "version": "3.7.12"
    },
    "colab": {
      "provenance": []
    }
  },
  "nbformat": 4,
  "nbformat_minor": 0
}